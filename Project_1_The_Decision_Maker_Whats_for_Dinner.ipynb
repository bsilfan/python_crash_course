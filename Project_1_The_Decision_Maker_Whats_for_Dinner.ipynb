{
  "nbformat": 4,
  "nbformat_minor": 0,
  "metadata": {
    "colab": {
      "name": "Copy of Project 1: The Decision Maker",
      "provenance": [],
      "collapsed_sections": [],
      "include_colab_link": true
    },
    "kernelspec": {
      "name": "python3",
      "display_name": "Python 3"
    },
    "language_info": {
      "name": "python"
    }
  },
  "cells": [
    {
      "cell_type": "markdown",
      "metadata": {
        "id": "view-in-github",
        "colab_type": "text"
      },
      "source": [
        "<a href=\"https://colab.research.google.com/github/bsilfan/python_crash_course/blob/main/Project_1_The_Decision_Maker_Whats_for_Dinner.ipynb\" target=\"_parent\"><img src=\"https://colab.research.google.com/assets/colab-badge.svg\" alt=\"Open In Colab\"/></a>"
      ]
    },
    {
      "cell_type": "markdown",
      "source": [
        "# Project 1: The Decision Maker\n",
        "\n",
        "⚠️   **Duplicate this project before you start working on it, using `File > Save a copy in drive`.**\n",
        "\n",
        "Computer programs make decisions that affect human lives all the time. Banks use algorithms to decide who is eligible for a loan, universities use algorithms to decide which students get on-campus housing, Gmail uses algorithms to decide whether to send an email to the spam folder. Since the fate of individuals' lives can depend on decisions made by algorithms, it's very important to think about how to make _good_ decisions.\n",
        "\n",
        "In this project, you'll build a program that can make a decision about how to prioritize an individual for an opportunity. You'll practice variables, functions, conditionals, and user input, all combined in one program. You'll also figure out how to test this program, both automatically and in the real world.\n"
      ],
      "metadata": {
        "id": "hlAX8ZqrzJ4C"
      }
    },
    {
      "cell_type": "markdown",
      "source": [
        "## Step 1: Pick a topic\n",
        "\n",
        "You all are coming from all around the world, and the decisions that are important in your community may be different from the decisions important to other communities. So, we will give suggestions for decision-making algorithms to program, and you can pick from this list or concoct your own. Each of these algorithms will come up with a score for an individual based on a series of questions, and individuals with higher scores would be prioritized for the opportunity.\n",
        "\n",
        "* **Student housing**: An algorithm that universities can use to figure out which of their students get to live in limited university housing spots. The score could consider factors like year of study, age, whether they're a TA, if they're on academic probation, their major, their hometown, etc.\n",
        "* **Vaccine shots**: Hospitals could use this to decide which of their patients get early access to limited vaccine doses. The score might consider factors like existing conditions, age, previous vaccinations, type of employment, socioeconomic status, etc.\n",
        "* **Small business loans**: An algorithm that a bank might use to decide whether to give a loan to a small business owner. The score might depend on factors like number of businesses they've run before, profit estimates, loss estimates, age, number of jobs held, etc.\n",
        "\n",
        "Those are a few ideas, but as I said, feel free to come up with your own idea. It's best if it's something you yourself have personal experience with, or something that your friends/family members/colleagues have experienced, so that you can discuss with them what would make sense. Remember, it's risky to outsource these sorts of decisions to computers, so we want you to put some thought into your algorithm.\n",
        "\n",
        "### ✏︎ For you to do\n",
        "\n",
        "Describe the topic below (or just write the name of one of the suggested topics)."
      ],
      "metadata": {
        "id": "SSDiE1y1zUl3"
      }
    },
    {
      "cell_type": "markdown",
      "source": [
        "✏️ My topic will be: what should we have for dinner tonight?\n",
        "\n"
      ],
      "metadata": {
        "id": "dOQTYvJO1BGA"
      }
    },
    {
      "cell_type": "markdown",
      "source": [
        "## Step 2: Design your algorithm\n",
        "\n",
        "Now it's time to actually come up with the algorithm. Limit yourself to the most important factors, so that you have enough time to actually turn this algorithm into a working program.\n",
        "\n",
        "Your algorithm will:\n",
        "* Ask someone a series of questions, such as \"How old are you?\" or \"Have you ever started a business before?\"\n",
        "* Assign points based on their answers. For a question like age, your algorithm might assign scores proportional to the number of years, or perhaps assign certain scores based on buckets (e.g. 5 points for 0-5, 3 points for 5-15, etc.) For a question like \"Are you immunocompromised?\", it may simply assign 10 points for \"yes\" and 0 points otherwise.\n",
        "* Accumulate their total points across all answers into a single numeric score, with a higher score indicating that the person is a better candidate for the opportunity than users with lower scores.\n",
        "\n",
        "### Constraints\n",
        "\n",
        "Since a big goal of this project is to practice using conditionals, we have several requirements for your question design:\n",
        "\n",
        "* At least one of your questions should assign points into buckets. _(Implementation tip: that's a great time to use `if`/`elif`/`else`)._\n",
        "* One of your questions should be answered by a number that gets arithmetically manipulated to come up with the corresponding points.\n",
        "\n",
        "### ✏︎ For you to do\n",
        "\n",
        "Create a bulleted list of all the questions you'll ask, and how the answers will be mapped to points."
      ],
      "metadata": {
        "id": "G4SzvXvUzb4W"
      }
    },
    {
      "cell_type": "markdown",
      "source": [
        "✏️ My algorithm will ask:\n",
        "\n",
        "* Weekday or Weekend? (Delivery will get more points for weekend)\n",
        "* What cuisine did you have yesterday? (Whatever we had yesterday will get penalized)\n",
        "* Are you in a rush (cuisines that take longer to cook will get penalized if yes)\n",
        "* Have you been eating well lately? (if no, healthy will get a boost)\n",
        "* Is it a special occassion? (fine dining will win - steak/lobster time!)\n",
        "\n",
        "\n",
        "\n",
        "\n",
        "\n",
        "\n"
      ],
      "metadata": {
        "id": "W_OiFIjV04VM"
      }
    },
    {
      "cell_type": "markdown",
      "source": [
        "## Plan your tests\n",
        "\n",
        "A great practice in programming is to come up with test cases _before_ writing a program. That can help you think more carefully about whether the planned program will actually do what you are hoping, and will make it easy to verify that the code you write actually works.\n",
        "\n",
        "Either interview three people or come up with three fictional people who might encounter this algorithm in their lives. Figure out how they would answer the questions, run the answers through your proposed algorithm, and see what scores result. Do their relative scores make sense? Are they fair? If they do, great! If not, keep tweaking your algorithm or add/remove questions as needed to improve it.\n",
        "\n",
        "### ✏︎ For you to do\n",
        "\n",
        "Make a list of the test cases, with the expected score for each case and a sublist of question/answer scores. You'll translate these test cases into code later.\n"
      ],
      "metadata": {
        "id": "M-8MH5hG0CMx"
      }
    },
    {
      "cell_type": "markdown",
      "source": [
        "✏️ Test cases:\n",
        "\n",
        "* Case 1: expected score of [SCORE]\n",
        "  * if special occassion yes: fine dining wins!\n",
        "  * [question]: [answer]\n"
      ],
      "metadata": {
        "id": "7bLvLJlO0J_U"
      }
    },
    {
      "cell_type": "markdown",
      "source": [
        "## Transform into code\n",
        "\n",
        "It's time to turn those plans into a program. You'll write all the code inside this notebook.\n",
        "\n",
        "The first part of the program is `calculate_score`, the function that will do the bulk of the computational work (with a whole lot of conditionals and arithmetic). The skeleton code below just has a few arguments, no conditionals or computations, and a not-so-useful doctest. You'll end up modifying this function quite a bit."
      ],
      "metadata": {
        "id": "J93zZ5Jj1Nnk"
      }
    },
    {
      "cell_type": "code",
      "metadata": {
        "id": "r98tCGIqkGtG",
        "outputId": "aa134b34-4e45-43f2-fef0-c02c103c92ac",
        "colab": {
          "base_uri": "https://localhost:8080/"
        }
      },
      "source": [
        "def calculate_score(day_of_week, cuisine_yesterday, in_a_rush, healthy_eating, special_occasion):\n",
        "  \"\"\" Calculates score based on answers given to questions.\n",
        "  >>> calculate_score('Weekday', 'Delivery', 'No', 'No', 'Yes')\n",
        "  Fine Dining\n",
        "  \"\"\"\n",
        "  day_of_week = day_of_week.lower()\n",
        "  cuisine_yesterday = cuisine_yesterday.lower()\n",
        "  in_a_rush = in_a_rush.lower()\n",
        "  healthy_eating = healthy_eating.lower()\n",
        "  special_occasion = special_occasion.lower()\n",
        "\n",
        "  if day_of_week == 'weekday':\n",
        "    Delivery = -50\n",
        "    American = 0\n",
        "    Italian = 0\n",
        "    Healthy = 0\n",
        "    Mexican = 0\n",
        "    Asian = 0\n",
        "  \n",
        "  elif day_of_week == 'weekend':\n",
        "    Delivery = 50\n",
        "    American = 0\n",
        "    Italian = 0\n",
        "    Healthy = 0\n",
        "    Mexican = 0\n",
        "    Asian = 0\n",
        "  \n",
        "  if cuisine_yesterday == 'delivery':\n",
        "    Delivery -= 50\n",
        "    American += 10\n",
        "    Italian += 10\n",
        "    Healthy += 10\n",
        "    Mexican += 10\n",
        "    Asian += 10\n",
        "  \n",
        "  elif cuisine_yesterday == 'american':\n",
        "    Delivery += 10\n",
        "    American -= 50\n",
        "    Italian += 10\n",
        "    Healthy += 10\n",
        "    Mexican += 10\n",
        "    Asian += 10\n",
        "  \n",
        "  elif cuisine_yesterday == 'italian':\n",
        "    Delivery += 10\n",
        "    American += 10\n",
        "    Italian -= 50\n",
        "    Healthy += 10\n",
        "    Mexican += 10\n",
        "    Asian += 10\n",
        "\n",
        "  elif cuisine_yesterday == 'healthy':\n",
        "    Delivery += 10\n",
        "    American += 10\n",
        "    Italian += 10\n",
        "    Healthy -= 25\n",
        "    Mexican += 10\n",
        "    Asian += 10\n",
        "  \n",
        "  elif cuisine_yesterday == 'mexican':\n",
        "    Delivery += 10\n",
        "    American += 10\n",
        "    Italian += 10\n",
        "    Healthy += 10\n",
        "    Mexican -= 50\n",
        "    Asian += 10\n",
        "\n",
        "  elif cuisine_yesterday == 'asian':\n",
        "    Delivery += 10\n",
        "    American += 10\n",
        "    Italian += 10\n",
        "    Healthy += 10\n",
        "    Mexican += 10\n",
        "    Asian -= 50\n",
        "\n",
        "  if in_a_rush == 'yes':\n",
        "    Delivery += 10\n",
        "    American += 20\n",
        "    Italian -= 10\n",
        "    Healthy += 20\n",
        "    Mexican -= 15\n",
        "    Asian -= 10\n",
        "  \n",
        "  elif in_a_rush == 'no':\n",
        "    Delivery -= 30\n",
        "    American -= 10\n",
        "    Italian += 15\n",
        "    Healthy += 0\n",
        "    Mexican += 15\n",
        "    Asian += 15\n",
        "  \n",
        "  if healthy_eating == 'yes':\n",
        "    Delivery += 0\n",
        "    American += 0\n",
        "    Italian += 0\n",
        "    Healthy -= 5\n",
        "    Mexican += 0\n",
        "    Asian += 0\n",
        "  \n",
        "  elif healthy_eating == 'no':\n",
        "    Delivery += 0\n",
        "    American += 0\n",
        "    Italian += 0\n",
        "    Healthy += 30\n",
        "    Mexican += 0\n",
        "    Asian += 15\n",
        "\n",
        "  if special_occasion == 'yes':\n",
        "    Fine_Dining = 1000\n",
        "  \n",
        "  elif special_occasion == 'no':\n",
        "    Fine_Dining = 0\n",
        "\n",
        "  var = {Delivery:\"Delivery\", American:\"American\", Italian:\"Italian\", Healthy:\"Healthy\", Mexican:\"Mexican\", Fine_Dining:\"Fine Dining\"}\n",
        "  return var.get(max(var))\n",
        "\n",
        "# This code runs the doctests to see if they pass/fail\n",
        "import doctest\n",
        "doctest.run_docstring_examples(calculate_score, globals(),\n",
        "    verbose=True, name=\"calculate_score\")"
      ],
      "execution_count": 5,
      "outputs": [
        {
          "output_type": "stream",
          "name": "stdout",
          "text": [
            "Finding tests in calculate_score\n",
            "Trying:\n",
            "    calculate_score('Weekday', 'Delivery', 'No', 'No', 'Yes')\n",
            "Expecting:\n",
            "    Fine Dining\n",
            "**********************************************************************\n",
            "File \"__main__\", line 3, in calculate_score\n",
            "Failed example:\n",
            "    calculate_score('Weekday', 'Delivery', 'No', 'No', 'Yes')\n",
            "Expected:\n",
            "    Fine Dining\n",
            "Got:\n",
            "    'Fine Dining'\n"
          ]
        }
      ]
    },
    {
      "cell_type": "markdown",
      "source": [
        "Next, the code below uses `input()` to ask each question, remembering the answers in variables. It sends the answers to `calculate_score()` and prints out the returned score. You'll be modifying this code to ask your own questions, most likely asking more than just two questions.\n",
        "\n",
        "The code below won't work without `calculate_score` being defined, so **make sure you run the code block above before you run this code, and re-run the first code block if you ever change it.**\n"
      ],
      "metadata": {
        "id": "XnS8T_9u1ypC"
      }
    },
    {
      "cell_type": "code",
      "source": [
        "import random\n",
        "\n",
        "delivery_list = ['Pizza', 'Sushi', 'Greek', 'Subs']\n",
        "american_list = ['Buffalo Chicken Wrap', 'Chicken Noodle Soup', 'Burgers', 'Roast Chicken']\n",
        "italian_list = ['Chicken Parmigiana', 'Spaghetti and Meatballs', 'Branzino', 'Homemade Ravioli']\n",
        "mexican_list = ['Tacos', 'Burritos', 'Quesadillas', 'Carnitas']\n",
        "asian_list = ['Ramen', 'Stir-Fry', 'Pho', 'Fried Rice']\n",
        "healthy_list = ['Quinoa Bowl', 'Grilled Salmon', 'Grilled Chicken Salad']\n",
        "fine_dining_list = ['Filet Mignon', 'Lobster']\n",
        "\n",
        "day_of_week = input(\"Is it a weekday or the weekend? (choose: Weekday or Weekend) \")\n",
        "cuisine_yesterday = input(\"What cuisine did you have yesterday? (choose: Delivery, American, Italian, Healthy, Mexican, Asian, Fine Dining) \")\n",
        "in_a_rush = input(\"Are you in a rush? (choose: Yes or No) \")\n",
        "healthy_eating = input(\"Have you been eating well lately? (choose: Yes or No) \")\n",
        "special_occasion = input(\"Is it a special occasion? (choose: Yes or No) \")\n",
        "\n",
        "\n",
        "# Once you have all the answers, send them through the calculator function\n",
        "# Note that some answers may need to be converted to numbers\n",
        "score = calculate_score(day_of_week, cuisine_yesterday, in_a_rush, healthy_eating, special_occasion)\n",
        "\n",
        "# Now report the score to the user\n",
        "\n",
        "def menu_item(score):\n",
        "    if score == 'Delivery':\n",
        "      menu_item_choice = random.choice(delivery_list)\n",
        "      return menu_item_choice\n",
        "    elif score == 'American':\n",
        "      menu_item_choice = random.choice(american_list)\n",
        "      return menu_item_choice\n",
        "    elif score == 'Italian':\n",
        "      menu_item_choice = random.choice(italian_list)\n",
        "      return menu_item_choice\n",
        "    elif score == 'Healthy':\n",
        "      menu_item_choice = random.choice(healthy_list)\n",
        "      return menu_item_choice\n",
        "    elif score == 'Mexican':\n",
        "      menu_item_choice = random.choice(mexican_list)\n",
        "      return menu_item_choice\n",
        "    elif score == 'Asian':\n",
        "      menu_item_choice = random.choice(asian_list)\n",
        "      return menu_item_choice\n",
        "    elif score == 'Fine Dining':\n",
        "      menu_item_choice = random.choice(fine_dining_list)\n",
        "      return menu_item_choice\n",
        "\n",
        "score2 = menu_item(score)\n",
        "\n",
        "print(\"For dinner tonight you should have\", score, \"food and you should eat\", score2)\n"
      ],
      "metadata": {
        "id": "vjDZWCg7wikg",
        "outputId": "047ae6ab-7b91-4468-8015-971075789840",
        "colab": {
          "base_uri": "https://localhost:8080/"
        }
      },
      "execution_count": 6,
      "outputs": [
        {
          "output_type": "stream",
          "name": "stdout",
          "text": [
            "Is it a weekday or the weekend? (choose: Weekday or Weekend) Weekday\n",
            "What cuisine did you have yesterday? (choose: Delivery, American, Italian, Healthy, Mexican, Asian, Fine Dining) asian\n",
            "Are you in a rush? (choose: Yes or No) Yes\n",
            "Have you been eating well lately? (choose: Yes or No) Yes\n",
            "Is it a special occasion? (choose: Yes or No) No\n",
            "For dinner tonight you should have American and you should eat Burgers\n"
          ]
        }
      ]
    },
    {
      "cell_type": "markdown",
      "source": [
        "### ✏︎ For you to do\n",
        "\n",
        "Now you'll convert your planned questions into code. Here's one way to go about this part:\n",
        "\n",
        "* First write all the code to ask the questions with `input()` calls, and make sure the variables are all correctly stored. \n",
        "* Then implement the `calculate_score()` function, adding all the conditionals and calculations as needed.\n",
        "\n",
        "You could also tackle it in reverse, or even alternate between `input()` and `calculate_score()` - whatever works best for you.\n",
        "\n",
        "By the time you're done (or along the way), make sure you've ported all your test cases from before into the doctests for `calculate_scores` and that they all pass. It's a whole lot easier to run doctests than to continually type in answers to series of questions, so I recommend bringing in the tests early for faster development and debugging."
      ],
      "metadata": {
        "id": "KM_Y16Bq2gra"
      }
    },
    {
      "cell_type": "markdown",
      "source": [
        "## Reflection\n",
        "\n",
        "Congratulations! 🎉 You've written a program that can make a complex decision. This may be the first of many!\n",
        "\n",
        "Now is a good time to reflect on the fairness of your own decision making algorithm as well as decision making algorithms in general.\n",
        "\n",
        "Here are a few articles that discuss algorithmic decision making:\n",
        "\n",
        "* [What Happens When An Algorithm Cuts Your Health Care](https://www.theverge.com/2018/3/21/17144260/healthcare-medicaid-algorithm-arkansas-cerebral-palsy)  by Colin Lecher\n",
        "* [We Created Poverty; Algorithms Won't Make That Go Away](https://www.theguardian.com/commentisfree/2018/may/13/we-created-poverty-algorithms-wont-make-that-go-away) by Virginia Eubanks\n",
        "\n",
        "If you have time to read a whole book, [Weapons of Math Destruction](https://www.penguinrandomhouse.com/books/241363/weapons-of-math-destruction-by-cathy-oneil/) by Cathy O'Neil is a fascinating deep dive.\n",
        "\n",
        "### Deliverable\n",
        "\n",
        "Respond to the following questions."
      ],
      "metadata": {
        "id": "tczCE2Ug2ly_"
      }
    },
    {
      "cell_type": "markdown",
      "source": [
        "✏️ \n",
        "* Which people are most likely to benefit from your algorithm? Which people are most likely to be harmed/denied benefits from your algorithm?\n",
        "   \n",
        "  People who will benefit are people who have the same tastes/preferences as me for what to do in certain situations (i.e. preferring delivery on weekends, preferring not to eat the same thing two days in a row, etc.)\n",
        "\n",
        "* If you had infinite time/resources/programming power, what would improve the algorithm? Or is it impossible to fairly automate a decision like this?\n",
        "   \n",
        "   I would build an inventory and recipe system that took into consideration what food we have in the house to recommend dishes."
      ],
      "metadata": {
        "id": "OCCvzIj84yR_"
      }
    },
    {
      "cell_type": "markdown",
      "source": [
        "## Extensions\n",
        "\n",
        "Want to take this project further? Here are a few ideas:\n",
        "\n",
        "* **Follow-up questions**: Your program could ask a question only if the user answered the first question a particular way. This would probably involve `if` statements in the `input()` part of the program as well as nested `if` statements inside `calculate_score` itself. You could even use default arguments in your `calculate_score` function if that makes the code cleaner.\n",
        "* **Error checking**: What if you ask a user a yes/no question and they answer \"maybe\"? Or if you ask them for a numeric answer but they write a word or type a \"$\" in front? You can do some error checking after receiving each answer to make sure it is compatible with what `calculate_score` expects, and if not, you can try to convert it into an appropriate response or ask the user a follow-up question to clarify.\n",
        "* **Personality quiz**: Ever taken one of those silly quizzes in magazines or online, like \"What LOTR character are you?\". They ask a bunch of questions and then declare which character you're the most like. You can use a very similar approach to this project to make a quiz like that. That'd be pretty different from the original project though, so make a copy of your original notebook if you go down that path!"
      ],
      "metadata": {
        "id": "FD990bUdfKhj"
      }
    },
    {
      "cell_type": "markdown",
      "source": [
        "## Attribution\n",
        "\n",
        "This project was based on [\"Algorithms as Decision-Makers\"](https://ethicalcs.github.io/#decision-makers) from Evan Peck at Bucknell University. Thank you, Evan and team."
      ],
      "metadata": {
        "id": "EwNTSviJ5SiQ"
      }
    }
  ]
}